{
 "cells": [
  {
   "cell_type": "code",
   "execution_count": 1,
   "id": "c647c04e-6916-4ced-bca9-1ba1f86600d6",
   "metadata": {},
   "outputs": [
    {
     "name": "stdout",
     "output_type": "stream",
     "text": [
      "hello world\n"
     ]
    }
   ],
   "source": [
    "print (\"hello world\")"
   ]
  },
  {
   "cell_type": "code",
   "execution_count": 3,
   "id": "1f6b1b28-73ff-439d-ae0e-9a3446e424d1",
   "metadata": {},
   "outputs": [],
   "source": [
    "d = 1\n",
    "d2 = 2\n",
    "d3 = 3"
   ]
  },
  {
   "cell_type": "code",
   "execution_count": 4,
   "id": "e91ae2c4-3b3f-4c41-8200-3ea2e1cea27c",
   "metadata": {},
   "outputs": [
    {
     "data": {
      "text/plain": [
       "5"
      ]
     },
     "execution_count": 4,
     "metadata": {},
     "output_type": "execute_result"
    }
   ],
   "source": [
    "d +d2 +d2 "
   ]
  },
  {
   "cell_type": "code",
   "execution_count": null,
   "id": "8ab0cd02-aa4b-4163-aec5-6189989a0b46",
   "metadata": {},
   "outputs": [],
   "source": []
  }
 ],
 "metadata": {
  "kernelspec": {
   "display_name": "Python 3 (ipykernel)",
   "language": "python",
   "name": "python3"
  },
  "language_info": {
   "codemirror_mode": {
    "name": "ipython",
    "version": 3
   },
   "file_extension": ".py",
   "mimetype": "text/x-python",
   "name": "python",
   "nbconvert_exporter": "python",
   "pygments_lexer": "ipython3",
   "version": "3.9.7"
  }
 },
 "nbformat": 4,
 "nbformat_minor": 5
}
